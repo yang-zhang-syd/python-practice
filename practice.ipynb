{
 "cells": [
  {
   "cell_type": "code",
   "execution_count": 1,
   "metadata": {},
   "outputs": [
    {
     "name": "stdout",
     "output_type": "stream",
     "text": [
      "hello world\n"
     ]
    }
   ],
   "source": [
    "print(\"hello world\")"
   ]
  },
  {
   "cell_type": "markdown",
   "metadata": {},
   "source": [
    "26. Remove Duplicates from Sorted Array"
   ]
  },
  {
   "cell_type": "code",
   "execution_count": null,
   "metadata": {},
   "outputs": [],
   "source": [
    "class Solution:\n",
    "    def removeDuplicates(self, nums: List[int]) -> int:\n",
    "        current = nums[0]\n",
    "        i = 1\n",
    "        j = 1\n",
    "        while i < len(nums):\n",
    "            if nums[i] == current:\n",
    "                while i < len(nums) and nums[i] == current:\n",
    "                    i += 1\n",
    "            else:\n",
    "                current = nums[i]\n",
    "                nums[j] = nums[i]\n",
    "                j += 1\n",
    "                i += 1"
   ]
  },
  {
   "cell_type": "markdown",
   "metadata": {},
   "source": [
    "27. Remove Element"
   ]
  },
  {
   "cell_type": "code",
   "execution_count": null,
   "metadata": {},
   "outputs": [],
   "source": [
    "class Solution:\n",
    "    def removeElement(self, nums: List[int], val: int) -> int:\n",
    "        j = 0\n",
    "        i = 0\n",
    "        while i < len(nums):\n",
    "            if nums[i] == val:\n",
    "                while i < len(nums) and nums[i] == val:\n",
    "                    i += 1\n",
    "            else:\n",
    "                nums[j] = nums[i]\n",
    "                i += 1\n",
    "                j += 1"
   ]
  },
  {
   "cell_type": "markdown",
   "metadata": {},
   "source": [
    "28. Implement strStr()\n",
    "\n",
    "\"mississippi\"\n",
    "\"issip\""
   ]
  },
  {
   "cell_type": "code",
   "execution_count": 2,
   "metadata": {},
   "outputs": [
    {
     "data": {
      "text/plain": [
       "-1"
      ]
     },
     "execution_count": 2,
     "metadata": {},
     "output_type": "execute_result"
    }
   ],
   "source": [
    "class Solution:\n",
    "    def strStr(self, haystack: str, needle: str) -> int:\n",
    "        if len(needle) == 0:\n",
    "            return 0\n",
    "\n",
    "        j = 0\n",
    "        k = 0\n",
    "        f = False\n",
    "        for i in range(len(haystack)):\n",
    "            if haystack[i] == needle[j]:\n",
    "                if haystack[i] == needle[0] and not f:\n",
    "                    k = i\n",
    "                    f = True\n",
    "                if j == len(needle) - 1:\n",
    "                    return i - len(needle) + 1\n",
    "                j += 1\n",
    "            else:\n",
    "                j = 0\n",
    "            if k != 0:\n",
    "                i = k\n",
    "                k = 0\n",
    "                f = False\n",
    "            else:\n",
    "                i += 1\n",
    "        return -1\n",
    "\n",
    "s = Solution()\n",
    "s.strStr('mississippi', 'issip')\n"
   ]
  },
  {
   "cell_type": "markdown",
   "metadata": {},
   "source": [
    "4. Median of Two Sorted Arrays"
   ]
  },
  {
   "cell_type": "code",
   "execution_count": 6,
   "metadata": {},
   "outputs": [
    {
     "data": {
      "text/plain": [
       "1"
      ]
     },
     "execution_count": 6,
     "metadata": {},
     "output_type": "execute_result"
    }
   ],
   "source": [
    "from typing import List\n",
    "\n",
    "class Solution:\n",
    "    def findMedianSortedArrays(self, nums1: List[int], nums2: List[int]) -> float:\n",
    "        length1 = len(nums1)\n",
    "        length2 = len(nums2)\n",
    "        length = length1 + length2\n",
    "        idx = [length / 2 - 1, length / 2] if length % 2 == 0 else [length // 2]\n",
    "        sum = 0\n",
    "        for i in idx:\n",
    "            sum += self.findIthNum(nums1, nums2, i)\n",
    "        return sum / len(idx)\n",
    "\n",
    "    def findIthNum(self, nums1: List[int], nums2: List[int], index: int) -> int:\n",
    "        if len(nums1) == 0:\n",
    "            return nums2[index]\n",
    "        if len(nums2) == 0:\n",
    "            return nums1[index]\n",
    "        \n",
    "        pivotIndex = len(nums1) // 2\n",
    "        pivot = nums1[pivotIndex]\n",
    "        nums1LeftNumOfItems = pivotIndex\n",
    "        nums2SearchIndex = len(nums2) // 2\n",
    "\n",
    "    def findIndexOfNum(self, nums: List[int], pivot: int) -> int:\n",
    "        if nums[0] >= pivot:\n",
    "            return 0\n",
    "        if nums[-1] <= pivot:\n",
    "            return len(nums) - 1\n",
    "        midIndex = len(nums) // 2\n",
    "        mid = nums[midIndex]\n",
    "        if mid == pivot:\n",
    "            return midIndex\n",
    "        if mid > pivot:\n",
    "            return self.findIndexOfNum(nums[0:midIndex], pivot)\n",
    "        else:\n",
    "            return midIndex + 1 + self.findIndexOfNum(nums[midIndex+1:], pivot)\n",
    "        \n",
    "s = Solution()\n",
    "s.findIndexOfNum([1,2,4,5], 3)\n",
    "        "
   ]
  },
  {
   "cell_type": "markdown",
   "metadata": {},
   "source": [
    "98. Validate Binary Search Tree"
   ]
  },
  {
   "cell_type": "code",
   "execution_count": null,
   "metadata": {},
   "outputs": [],
   "source": [
    "from typing import Optional\n",
    "\n",
    "# Definition for a binary tree node.\n",
    "class TreeNode:\n",
    "    def __init__(self, val=0, left=None, right=None):\n",
    "        self.val = val\n",
    "        self.left = left\n",
    "        self.right = right\n",
    "        \n",
    "class Solution:\n",
    "    def isValidBST(self, root: Optional[TreeNode]) -> bool:\n",
    "        return self.isValidBSTRecursive(root)\n",
    "\n",
    "    def isValidBSTRecursive(self, root: Optional[TreeNode], min: int, max: int) -> bool:\n",
    "        if not root:\n",
    "            return True\n",
    "        \n",
    "        if min and root.val <= min:\n",
    "            return False\n",
    "\n",
    "        if max and root.val >= max:\n",
    "            return False\n",
    "\n",
    "        if root.left and root.val <= root.left.val:\n",
    "            return False\n",
    "\n",
    "        if root.right and root.val >= root.right.val:\n",
    "            return False\n",
    "\n",
    "        left = self.isValidBSTRecursive(root.left, min if min else None, root.val)\n",
    "        right = self.isValidBSTRecursive(root.right, root.val, max if max else None)\n",
    "\n",
    "        return left and right"
   ]
  },
  {
   "cell_type": "markdown",
   "metadata": {},
   "source": [
    "35. Search Insert Position"
   ]
  },
  {
   "cell_type": "code",
   "execution_count": 1,
   "metadata": {},
   "outputs": [
    {
     "ename": "NameError",
     "evalue": "name 'List' is not defined",
     "output_type": "error",
     "traceback": [
      "\u001b[0;31m---------------------------------------------------------------------------\u001b[0m",
      "\u001b[0;31mNameError\u001b[0m                                 Traceback (most recent call last)",
      "\u001b[1;32m/Users/yangzhang/Documents/workspace/python-practice/practice.ipynb Cell 13'\u001b[0m in \u001b[0;36m<cell line: 1>\u001b[0;34m()\u001b[0m\n\u001b[0;32m----> <a href='vscode-notebook-cell:/Users/yangzhang/Documents/workspace/python-practice/practice.ipynb#ch0000012?line=0'>1</a>\u001b[0m \u001b[39mclass\u001b[39;00m \u001b[39mSolution\u001b[39;00m:\n\u001b[1;32m      <a href='vscode-notebook-cell:/Users/yangzhang/Documents/workspace/python-practice/practice.ipynb#ch0000012?line=1'>2</a>\u001b[0m     \u001b[39mdef\u001b[39;00m \u001b[39msearchInsert\u001b[39m(\u001b[39mself\u001b[39m, nums: List[\u001b[39mint\u001b[39m], target: \u001b[39mint\u001b[39m) \u001b[39m-\u001b[39m\u001b[39m>\u001b[39m \u001b[39mint\u001b[39m:\n\u001b[1;32m      <a href='vscode-notebook-cell:/Users/yangzhang/Documents/workspace/python-practice/practice.ipynb#ch0000012?line=2'>3</a>\u001b[0m         \u001b[39mif\u001b[39;00m \u001b[39mlen\u001b[39m(nums) \u001b[39m==\u001b[39m \u001b[39m0\u001b[39m:\n",
      "\u001b[1;32m/Users/yangzhang/Documents/workspace/python-practice/practice.ipynb Cell 13'\u001b[0m in \u001b[0;36mSolution\u001b[0;34m()\u001b[0m\n\u001b[1;32m      <a href='vscode-notebook-cell:/Users/yangzhang/Documents/workspace/python-practice/practice.ipynb#ch0000012?line=0'>1</a>\u001b[0m \u001b[39mclass\u001b[39;00m \u001b[39mSolution\u001b[39;00m:\n\u001b[0;32m----> <a href='vscode-notebook-cell:/Users/yangzhang/Documents/workspace/python-practice/practice.ipynb#ch0000012?line=1'>2</a>\u001b[0m     \u001b[39mdef\u001b[39;00m \u001b[39msearchInsert\u001b[39m(\u001b[39mself\u001b[39m, nums: List[\u001b[39mint\u001b[39m], target: \u001b[39mint\u001b[39m) \u001b[39m-\u001b[39m\u001b[39m>\u001b[39m \u001b[39mint\u001b[39m:\n\u001b[1;32m      <a href='vscode-notebook-cell:/Users/yangzhang/Documents/workspace/python-practice/practice.ipynb#ch0000012?line=2'>3</a>\u001b[0m         \u001b[39mif\u001b[39;00m \u001b[39mlen\u001b[39m(nums) \u001b[39m==\u001b[39m \u001b[39m0\u001b[39m:\n\u001b[1;32m      <a href='vscode-notebook-cell:/Users/yangzhang/Documents/workspace/python-practice/practice.ipynb#ch0000012?line=3'>4</a>\u001b[0m             \u001b[39mreturn\u001b[39;00m \u001b[39m0\u001b[39m\n",
      "\u001b[0;31mNameError\u001b[0m: name 'List' is not defined"
     ]
    }
   ],
   "source": [
    "from typing import List\n",
    "\n",
    "class Solution:\n",
    "    def searchInsert(self, nums: List[int], target: int) -> int:\n",
    "        if len(nums) == 0:\n",
    "            return 0\n",
    "\n",
    "        pivotIndex = len(nums) // 2\n",
    "        pivot = nums[pivotIndex]\n",
    "        if pivot == target:\n",
    "            return pivotIndex\n",
    "        elif pivot > target:\n",
    "            return self.searchInsert(nums[0:pivotIndex], target)\n",
    "        else:\n",
    "            return pivotIndex + self.searchInsert(nums[pivotIndex+1:], target)\n",
    "\n",
    "s = Solution()\n",
    "r = s.searchInsert([1,3,5,6], 5)\n",
    "print(r)"
   ]
  }
 ],
 "metadata": {
  "interpreter": {
   "hash": "aee8b7b246df8f9039afb4144a1f6fd8d2ca17a180786b69acc140d282b71a49"
  },
  "kernelspec": {
   "display_name": "Python 3.9.0 64-bit",
   "language": "python",
   "name": "python3"
  },
  "language_info": {
   "codemirror_mode": {
    "name": "ipython",
    "version": 3
   },
   "file_extension": ".py",
   "mimetype": "text/x-python",
   "name": "python",
   "nbconvert_exporter": "python",
   "pygments_lexer": "ipython3",
   "version": "3.9.0"
  },
  "orig_nbformat": 4
 },
 "nbformat": 4,
 "nbformat_minor": 2
}
