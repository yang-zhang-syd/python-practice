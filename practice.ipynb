{
 "cells": [
  {
   "cell_type": "code",
   "execution_count": 1,
   "metadata": {},
   "outputs": [
    {
     "name": "stdout",
     "output_type": "stream",
     "text": [
      "hello world\n"
     ]
    }
   ],
   "source": [
    "print(\"hello world\")"
   ]
  },
  {
   "cell_type": "markdown",
   "metadata": {},
   "source": [
    "26. Remove Duplicates from Sorted Array"
   ]
  },
  {
   "cell_type": "code",
   "execution_count": null,
   "metadata": {},
   "outputs": [],
   "source": [
    "class Solution:\n",
    "    def removeDuplicates(self, nums: List[int]) -> int:\n",
    "        current = nums[0]\n",
    "        i = 1\n",
    "        j = 1\n",
    "        while i < len(nums):\n",
    "            if nums[i] == current:\n",
    "                while i < len(nums) and nums[i] == current:\n",
    "                    i += 1\n",
    "            else:\n",
    "                current = nums[i]\n",
    "                nums[j] = nums[i]\n",
    "                j += 1\n",
    "                i += 1"
   ]
  },
  {
   "cell_type": "markdown",
   "metadata": {},
   "source": [
    "27. Remove Element"
   ]
  },
  {
   "cell_type": "code",
   "execution_count": null,
   "metadata": {},
   "outputs": [],
   "source": [
    "class Solution:\n",
    "    def removeElement(self, nums: List[int], val: int) -> int:\n",
    "        j = 0\n",
    "        i = 0\n",
    "        while i < len(nums):\n",
    "            if nums[i] == val:\n",
    "                while i < len(nums) and nums[i] == val:\n",
    "                    i += 1\n",
    "            else:\n",
    "                nums[j] = nums[i]\n",
    "                i += 1\n",
    "                j += 1"
   ]
  },
  {
   "cell_type": "markdown",
   "metadata": {},
   "source": [
    "28. Implement strStr()\n",
    "\n",
    "\"mississippi\"\n",
    "\"issip\""
   ]
  },
  {
   "cell_type": "code",
   "execution_count": 2,
   "metadata": {},
   "outputs": [
    {
     "data": {
      "text/plain": [
       "-1"
      ]
     },
     "execution_count": 2,
     "metadata": {},
     "output_type": "execute_result"
    }
   ],
   "source": [
    "class Solution:\n",
    "    def strStr(self, haystack: str, needle: str) -> int:\n",
    "        if len(needle) == 0:\n",
    "            return 0\n",
    "\n",
    "        j = 0\n",
    "        k = 0\n",
    "        f = False\n",
    "        for i in range(len(haystack)):\n",
    "            if haystack[i] == needle[j]:\n",
    "                if haystack[i] == needle[0] and not f:\n",
    "                    k = i\n",
    "                    f = True\n",
    "                if j == len(needle) - 1:\n",
    "                    return i - len(needle) + 1\n",
    "                j += 1\n",
    "            else:\n",
    "                j = 0\n",
    "            if k != 0:\n",
    "                i = k\n",
    "                k = 0\n",
    "                f = False\n",
    "            else:\n",
    "                i += 1\n",
    "        return -1\n",
    "\n",
    "s = Solution()\n",
    "s.strStr('mississippi', 'issip')\n"
   ]
  },
  {
   "cell_type": "markdown",
   "metadata": {},
   "source": [
    "4. Median of Two Sorted Arrays"
   ]
  },
  {
   "cell_type": "code",
   "execution_count": 6,
   "metadata": {},
   "outputs": [
    {
     "data": {
      "text/plain": [
       "1"
      ]
     },
     "execution_count": 6,
     "metadata": {},
     "output_type": "execute_result"
    }
   ],
   "source": [
    "from typing import List\n",
    "\n",
    "class Solution:\n",
    "    def findMedianSortedArrays(self, nums1: List[int], nums2: List[int]) -> float:\n",
    "        length1 = len(nums1)\n",
    "        length2 = len(nums2)\n",
    "        length = length1 + length2\n",
    "        idx = [length / 2 - 1, length / 2] if length % 2 == 0 else [length // 2]\n",
    "        sum = 0\n",
    "        for i in idx:\n",
    "            sum += self.findIthNum(nums1, nums2, i)\n",
    "        return sum / len(idx)\n",
    "\n",
    "    def findIthNum(self, nums1: List[int], nums2: List[int], index: int) -> int:\n",
    "        if len(nums1) == 0:\n",
    "            return nums2[index]\n",
    "        if len(nums2) == 0:\n",
    "            return nums1[index]\n",
    "        \n",
    "        pivotIndex = len(nums1) // 2\n",
    "        pivot = nums1[pivotIndex]\n",
    "        nums1LeftNumOfItems = pivotIndex\n",
    "        nums2SearchIndex = len(nums2) // 2\n",
    "\n",
    "    def findIndexOfNum(self, nums: List[int], pivot: int) -> int:\n",
    "        if nums[0] >= pivot:\n",
    "            return 0\n",
    "        if nums[-1] <= pivot:\n",
    "            return len(nums) - 1\n",
    "        midIndex = len(nums) // 2\n",
    "        mid = nums[midIndex]\n",
    "        if mid == pivot:\n",
    "            return midIndex\n",
    "        if mid > pivot:\n",
    "            return self.findIndexOfNum(nums[0:midIndex], pivot)\n",
    "        else:\n",
    "            return midIndex + 1 + self.findIndexOfNum(nums[midIndex+1:], pivot)\n",
    "        \n",
    "s = Solution()\n",
    "s.findIndexOfNum([1,2,4,5], 3)\n",
    "        "
   ]
  },
  {
   "cell_type": "markdown",
   "metadata": {},
   "source": [
    "98. Validate Binary Search Tree"
   ]
  },
  {
   "cell_type": "code",
   "execution_count": null,
   "metadata": {},
   "outputs": [],
   "source": [
    "from typing import Optional\n",
    "\n",
    "# Definition for a binary tree node.\n",
    "class TreeNode:\n",
    "    def __init__(self, val=0, left=None, right=None):\n",
    "        self.val = val\n",
    "        self.left = left\n",
    "        self.right = right\n",
    "        \n",
    "class Solution:\n",
    "    def isValidBST(self, root: Optional[TreeNode]) -> bool:\n",
    "        return self.isValidBSTRecursive(root)\n",
    "\n",
    "    def isValidBSTRecursive(self, root: Optional[TreeNode], min: int, max: int) -> bool:\n",
    "        if not root:\n",
    "            return True\n",
    "        \n",
    "        if min and root.val <= min:\n",
    "            return False\n",
    "\n",
    "        if max and root.val >= max:\n",
    "            return False\n",
    "\n",
    "        if root.left and root.val <= root.left.val:\n",
    "            return False\n",
    "\n",
    "        if root.right and root.val >= root.right.val:\n",
    "            return False\n",
    "\n",
    "        left = self.isValidBSTRecursive(root.left, min if min else None, root.val)\n",
    "        right = self.isValidBSTRecursive(root.right, root.val, max if max else None)\n",
    "\n",
    "        return left and right"
   ]
  },
  {
   "cell_type": "markdown",
   "metadata": {},
   "source": [
    "35. Search Insert Position"
   ]
  },
  {
   "cell_type": "code",
   "execution_count": 13,
   "metadata": {},
   "outputs": [
    {
     "name": "stdout",
     "output_type": "stream",
     "text": [
      "5\n"
     ]
    }
   ],
   "source": [
    "from typing import List\n",
    "\n",
    "class Solution:\n",
    "    def searchInsert(self, nums: List[int], target: int) -> int:\n",
    "        if len(nums) == 0:\n",
    "            return 0\n",
    "\n",
    "        pivotIndex = len(nums) // 2\n",
    "        pivot = nums[pivotIndex]\n",
    "        if pivot == target:\n",
    "            return pivotIndex\n",
    "        elif pivot > target:\n",
    "            return self.searchInsert(nums[0:pivotIndex], target)\n",
    "        else:\n",
    "            return pivotIndex + self.searchInsert(nums[pivotIndex+1:], target) + 1\n",
    "\n",
    "s = Solution()\n",
    "r = s.searchInsert([1,3,5,6,7], 8)\n",
    "print(r)"
   ]
  },
  {
   "cell_type": "markdown",
   "metadata": {},
   "source": [
    "387. First Unique Character in a String\n"
   ]
  },
  {
   "cell_type": "code",
   "execution_count": null,
   "metadata": {},
   "outputs": [],
   "source": [
    "class Solution:\n",
    "    def firstUniqChar(self, s: str) -> int:\n",
    "        dic = collections.Counter(s)\n",
    "        for i,c in enumerate(s):\n",
    "            if dic[c] == 1:\n",
    "                return i\n",
    "        return -1"
   ]
  },
  {
   "cell_type": "markdown",
   "metadata": {},
   "source": [
    "273. Integer to English Words\n"
   ]
  },
  {
   "cell_type": "code",
   "execution_count": 2,
   "metadata": {},
   "outputs": [
    {
     "name": "stdout",
     "output_type": "stream",
     "text": [
      "One Billion Two Hundred Thirty Four Million Five Hundred Sixty Seven Thousand Eight Hundred Ninety\n",
      "One Hundred Twenty Three\n"
     ]
    }
   ],
   "source": [
    "class Solution:\n",
    "    def numberToWords(self, num: int) -> str:\n",
    "        numStr = str(num)\n",
    "        \n",
    "        firstSectionLength = len(numStr) % 3 if len(numStr) % 3 != 0 else 3\n",
    "        sections = [numStr[:firstSectionLength]]\n",
    "        i = firstSectionLength\n",
    "        while i < len(numStr):\n",
    "            sections.append(numStr[i:i+3])\n",
    "            i += 3\n",
    "        \n",
    "        if len(sections) == 4:\n",
    "            result = ''\n",
    "            if self.hundrandsToWords(sections[0]):\n",
    "                result = self.hundrandsToWords(sections[0]) + ' Billion ' \n",
    "            if self.hundrandsToWords(sections[1]):\n",
    "                result += self.hundrandsToWords(sections[1]) + ' Million '\n",
    "            if self.hundrandsToWords(sections[2]):\n",
    "                result += self.hundrandsToWords(sections[2]) + ' Thousand '\n",
    "            if self.hundrandsToWords(sections[3]):\n",
    "                result += self.hundrandsToWords(sections[3])\n",
    "\n",
    "        if len(sections) == 3:\n",
    "            result = ''\n",
    "            if self.hundrandsToWords(sections[0]):\n",
    "                result += self.hundrandsToWords(sections[0]) + ' Million '\n",
    "            if self.hundrandsToWords(sections[1]):\n",
    "                result += self.hundrandsToWords(sections[1]) + ' Thousand '\n",
    "            if self.hundrandsToWords(sections[2]):\n",
    "                result += self.hundrandsToWords(sections[2])\n",
    "\n",
    "        if len(sections) == 2:\n",
    "            result = ''\n",
    "            if self.hundrandsToWords(sections[0]):\n",
    "                result += self.hundrandsToWords(sections[0]) + ' Thousand '\n",
    "            if self.hundrandsToWords(sections[1]):\n",
    "                result += self.hundrandsToWords(sections[1])\n",
    "\n",
    "        if len(sections) == 1:\n",
    "            result = ''\n",
    "            if self.hundrandsToWords(sections[0]):\n",
    "                result += self.hundrandsToWords(sections[0])\n",
    "\n",
    "        return result.strip()\n",
    "\n",
    "    def hundrandsToWords(self, num: str) -> str:\n",
    "        map = {\n",
    "            '0': 'Zero',\n",
    "            '1': 'One',\n",
    "            '2': 'Two',\n",
    "            '3': 'Three',\n",
    "            '4': 'Four',\n",
    "            '5': 'Five',\n",
    "            '6': 'Six',\n",
    "            '7': 'Seven',\n",
    "            '8': 'Eight',\n",
    "            '9': 'Nine',\n",
    "            '10': 'Ten',\n",
    "            '11': 'Eleven',\n",
    "            '12': 'Twelve',\n",
    "            '13': 'Thirteen',\n",
    "            '14': 'Fourteen',\n",
    "            '15': 'Fifteen',\n",
    "            '16': 'Sixteen',\n",
    "            '17': 'Seventeen',\n",
    "            '18': 'Eighteen',\n",
    "            '19': 'Nineteen',\n",
    "            '20': 'Twenty',\n",
    "            '30': 'Thirty',\n",
    "            '40': 'Forty',\n",
    "            '50': 'Fifty',\n",
    "            '60': 'Sixty',\n",
    "            '70': 'Seventy',\n",
    "            '80': 'Eighty',\n",
    "            '90': 'Ninety',\n",
    "            '00': ''\n",
    "        }\n",
    "        result = ''\n",
    "        if len(num) == 3:\n",
    "            result += (map[num[0]] + ' Hundred ') if num[0] != '0' else ''\n",
    "            num = num[1:]\n",
    "        if len(num) >= 2:\n",
    "            if num in map:\n",
    "                result += map[num]\n",
    "                return result.strip()\n",
    "            else:\n",
    "                result += (map[num[0]+'0'] + ' ') if map[num[0]+'0'] else ''\n",
    "            num = num[1:]\n",
    "        if num in map:\n",
    "            result += map[num]\n",
    "        return result.strip()\n",
    "s = Solution()\n",
    "print(s.numberToWords(1234567890))\n",
    "print(s.hundrandsToWords('123'))\n"
   ]
  },
  {
   "cell_type": "markdown",
   "metadata": {},
   "source": [
    "53. Maximum Subarray"
   ]
  },
  {
   "cell_type": "code",
   "execution_count": 6,
   "metadata": {},
   "outputs": [
    {
     "data": {
      "text/plain": [
       "21"
      ]
     },
     "execution_count": 6,
     "metadata": {},
     "output_type": "execute_result"
    }
   ],
   "source": [
    "import sys\n",
    "from typing import List\n",
    "\n",
    "class Solution:\n",
    "    def maxSubArray(self, nums: List[int]) -> int:\n",
    "        max = nums[0]\n",
    "        currentSum = nums[0] if nums[0] > 0 else 0\n",
    "        for i, num in enumerate(nums[1:]):\n",
    "            if currentSum + num > 0:\n",
    "                currentSum += num\n",
    "                if max < currentSum:\n",
    "                    max = currentSum\n",
    "            elif currentSum + num <= 0:\n",
    "                currentSum = 0\n",
    "            elif max < num:\n",
    "                max = num\n",
    "\n",
    "        return max\n",
    "\n",
    "s = Solution()\n",
    "s.maxSubArray([8,-19,5,-4,20])"
   ]
  },
  {
   "cell_type": "markdown",
   "metadata": {},
   "source": [
    "22. Generate Parentheses"
   ]
  },
  {
   "cell_type": "code",
   "execution_count": 23,
   "metadata": {},
   "outputs": [
    {
     "data": {
      "text/plain": [
       "['()()()', '()(())', '(())()', '(()())', '((()))']"
      ]
     },
     "execution_count": 23,
     "metadata": {},
     "output_type": "execute_result"
    }
   ],
   "source": [
    "class Solution:\n",
    "    def generateParenthesis(self, n: int) -> List[str]:\n",
    "        ans = []\n",
    "        if n == 0:\n",
    "            return ['']\n",
    "\n",
    "        for c in range(n):\n",
    "            for left in self.generateParenthesis(c):\n",
    "                for right in self.generateParenthesis(n - c -1):\n",
    "                    ans.append('({}){}'.format(left, right))\n",
    "\n",
    "        return ans\n",
    "        \n",
    "s = Solution()\n",
    "s.generateParenthesis(3)"
   ]
  },
  {
   "cell_type": "markdown",
   "metadata": {},
   "source": [
    "347. Top K Frequent Elements\n"
   ]
  },
  {
   "cell_type": "code",
   "execution_count": 14,
   "metadata": {},
   "outputs": [
    {
     "data": {
      "text/plain": [
       "[2]"
      ]
     },
     "execution_count": 14,
     "metadata": {},
     "output_type": "execute_result"
    }
   ],
   "source": [
    "import collections\n",
    "import heapq\n",
    "from typing import List\n",
    "\n",
    "class Solution:\n",
    "    def topKFrequent(self, nums: List[int], k: int) -> List[int]:\n",
    "        counts = collections.Counter(nums)\n",
    "        return heapq.nlargest(k, counts.keys(), key=counts.get)\n",
    "\n",
    "s = Solution()\n",
    "s.topKFrequent([1,1,2,2,2,3], 1)"
   ]
  },
  {
   "cell_type": "code",
   "execution_count": null,
   "metadata": {},
   "outputs": [],
   "source": [
    "121. Best Time to Buy and Sell Stock\n"
   ]
  },
  {
   "cell_type": "code",
   "execution_count": null,
   "metadata": {},
   "outputs": [],
   "source": [
    "class Solution:\n",
    "    def maxProfit(self, prices: List[int]) -> int:\n",
    "        max_profit = 0\n",
    "        min_price = prices[0]\n",
    "        for p in prices[1:]:\n",
    "            if p < min_price:\n",
    "                min_price = p\n",
    "            if p - min_price > max_profit:\n",
    "                max_profit = p - min_price\n",
    "        return max_profit"
   ]
  },
  {
   "cell_type": "markdown",
   "metadata": {},
   "source": [
    "122. Best Time to Buy and Sell Stock II\n"
   ]
  },
  {
   "cell_type": "code",
   "execution_count": null,
   "metadata": {},
   "outputs": [],
   "source": [
    "class Solution:\n",
    "    def maxProfit(self, prices: List[int]) -> int:\n",
    "        prev = prices[0]\n",
    "        profit = 0\n",
    "        for current in prices[1:]:\n",
    "            if current > prev:\n",
    "                profit += current - prev\n",
    "            prev = current\n",
    "        return profit"
   ]
  },
  {
   "cell_type": "markdown",
   "metadata": {},
   "source": [
    "123. Best Time to Buy and Sell Stock III\n",
    "https://leetcode.com/problems/best-time-to-buy-and-sell-stock-iii/"
   ]
  },
  {
   "cell_type": "code",
   "execution_count": null,
   "metadata": {},
   "outputs": [],
   "source": [
    "class Solution:\n",
    "    def maxProfit(self, prices: List[int]) -> int:\n",
    "        "
   ]
  },
  {
   "cell_type": "markdown",
   "metadata": {},
   "source": [
    "819. Most Common Word\n",
    "https://leetcode.com/problems/most-common-word/"
   ]
  },
  {
   "cell_type": "code",
   "execution_count": 35,
   "metadata": {},
   "outputs": [
    {
     "name": "stdout",
     "output_type": "stream",
     "text": [
      "dict_items([('hit', 1)])\n",
      "False\n"
     ]
    },
    {
     "data": {
      "text/plain": [
       "'ball'"
      ]
     },
     "execution_count": 35,
     "metadata": {},
     "output_type": "execute_result"
    }
   ],
   "source": [
    "import collections\n",
    "import re \n",
    "\n",
    "class Solution:\n",
    "    def mostCommonWord(self, paragraph: str, banned: List[str]) -> str:\n",
    "        bannedDic = collections.Counter(banned)\n",
    "        print(bannedDic.items())\n",
    "        print('hit' not in bannedDic)\n",
    "        paragraph = re.sub('[!?\\',;.]', ' ', paragraph)\n",
    "        words = {}\n",
    "        maxCount = 0\n",
    "        mostCommon = ''\n",
    "        for word in paragraph.split():\n",
    "            word = word.lower()\n",
    "            if word in words:\n",
    "                words[word] += 1\n",
    "                \n",
    "            elif word not in bannedDic:\n",
    "                words[word] = 1\n",
    "\n",
    "            if word in words and words[word] > maxCount:\n",
    "                mostCommon = word\n",
    "                maxCount = words[word]\n",
    "        return mostCommon\n",
    "\n",
    "s = Solution()\n",
    "s.mostCommonWord(\"Bob hit a ball, the hit BALL flew far after it was hit.\", ['hit'])"
   ]
  },
  {
   "cell_type": "markdown",
   "metadata": {},
   "source": [
    "937. Reorder Data in Log Files\n",
    "https://leetcode.com/problems/reorder-data-in-log-files/"
   ]
  },
  {
   "cell_type": "code",
   "execution_count": 55,
   "metadata": {},
   "outputs": [
    {
     "data": {
      "text/plain": [
       "['let1 art can',\n",
       " 'let3 art zero',\n",
       " 'let2 own kit dig',\n",
       " 'dig1 8 1 5 1',\n",
       " 'dig2 3 6']"
      ]
     },
     "execution_count": 55,
     "metadata": {},
     "output_type": "execute_result"
    }
   ],
   "source": [
    "import collections\n",
    "\n",
    "class Solution:\n",
    "    def reorderLogFiles(self, logs: List[str]) -> List[str]:\n",
    "        letterLogs = {}\n",
    "        digiLogs = []\n",
    "        for log in logs:\n",
    "            items = log.split(' ', 1)\n",
    "            id = items[0]\n",
    "            content = items[1]\n",
    "            if self.isDigit(content[0]):\n",
    "                digiLogs.append(log)\n",
    "            else:\n",
    "                if content not in letterLogs:\n",
    "                    letterLogs[content] = [log]\n",
    "                else:\n",
    "                    letterLogs[content].append(log)\n",
    "                    letterLogs[content].sort()\n",
    "        orderedLogs = collections.OrderedDict(sorted(letterLogs.items()))\n",
    "        result = []\n",
    "        for v in orderedLogs.values():\n",
    "            result += v\n",
    "\n",
    "        return result + digiLogs\n",
    "        \n",
    "    def isDigit(self, c: str) -> bool:\n",
    "        return c >= '0' and c <= '9'\n",
    "\n",
    "a = ['log1', 'log2']\n",
    "b = ['log3', 'log4']\n",
    "r = [a, b]\n",
    "\n",
    "s = Solution()\n",
    "s.reorderLogFiles([\"dig1 8 1 5 1\",\"let1 art can\",\"dig2 3 6\",\"let2 own kit dig\",\"let3 art zero\"])"
   ]
  },
  {
   "cell_type": "markdown",
   "metadata": {},
   "source": [
    "5. Longest Palindromic Substring\n",
    "https://leetcode.com/problems/longest-palindromic-substring/"
   ]
  },
  {
   "cell_type": "code",
   "execution_count": 92,
   "metadata": {},
   "outputs": [
    {
     "name": "stdout",
     "output_type": "stream",
     "text": [
      "[[True, False, True], [True, False, True], [True, False, True]]\n"
     ]
    },
    {
     "data": {
      "text/plain": [
       "'aba'"
      ]
     },
     "execution_count": 92,
     "metadata": {},
     "output_type": "execute_result"
    }
   ],
   "source": [
    "import collections\n",
    "\n",
    "class Solution:\n",
    "    def longestPalindrome(self, s: str) -> str:\n",
    "        \n",
    "        max = (0, 0)\n",
    "        prev = {}\n",
    "        for n in range(len(s)):\n",
    "            if n % 2 == 0:\n",
    "                p = {}\n",
    "            for i in range(len(s)):\n",
    "                j = i + n\n",
    "                if j >= len(s):\n",
    "                    break\n",
    "                k = i + 1\n",
    "                l = j - 1\n",
    "                if k >= l:\n",
    "                    p[str(i)+','+str(j)] = s[i] == s[j]\n",
    "\n",
    "                else:\n",
    "                    p[str(i)+','+str(j)] = prev[str(k)+','+str(l)] and s[i] == s[j]\n",
    "                    \n",
    "                if p[str(i)+','+str(j)]:\n",
    "                    length = j - i\n",
    "                    if length > max[1] - max[0]:\n",
    "                        max = (i, j)\n",
    "            if n % 2 == 1:\n",
    "                prev = p\n",
    "\n",
    "        return s[max[0]:max[1]+1]\n",
    "\n",
    "\n",
    "s = Solution()\n",
    "s.longestPalindrome(\"aba\")"
   ]
  },
  {
   "cell_type": "code",
   "execution_count": 8,
   "metadata": {},
   "outputs": [
    {
     "data": {
      "text/plain": [
       "'aba'"
      ]
     },
     "execution_count": 8,
     "metadata": {},
     "output_type": "execute_result"
    }
   ],
   "source": [
    "class Solution:\n",
    "    def longestPalindrome(self, s: str) -> str:\n",
    "        p = [False for x in range(len(s))]\n",
    "        \n",
    "        max = (0,0)\n",
    "        for end in range(len(s)):\n",
    "            for start in range(end+1):\n",
    "                if start == end:\n",
    "                    p[start] = True\n",
    "                else:\n",
    "                    p[start] = p[start + 1] and s[start] == s[end]\n",
    "                if p[start] and end - start > max[1] - max[0]:\n",
    "                    max = (start, end)\n",
    "\n",
    "        return s[max[0]: max[1] + 1]\n",
    "\n",
    "s = Solution()\n",
    "s.longestPalindrome('aba')"
   ]
  },
  {
   "cell_type": "markdown",
   "metadata": {},
   "source": [
    "25. Reverse Nodes in k-Group\n",
    "https://leetcode.com/problems/reverse-nodes-in-k-group/"
   ]
  },
  {
   "cell_type": "code",
   "execution_count": 13,
   "metadata": {},
   "outputs": [],
   "source": [
    "from typing import Optional\n",
    "# Definition for singly-linked list.\n",
    "class Solution:\n",
    "    def reverseKGroup(self, head: Optional[ListNode], k: int) -> Optional[ListNode]:\n",
    "        start = head\n",
    "        end = self.moveK(start, k - 1)\n",
    "        head = end if end else head\n",
    "        while end:\n",
    "            newStart = end.next\n",
    "            self.reverse(start, end)\n",
    "            start.next = newStart\n",
    "            start = newStart\n",
    "            end = self.moveK(start, k - 1)\n",
    "            \n",
    "        return head\n",
    "    \n",
    "    def moveK(self, start: Optional[ListNode], k: int) -> Optional[ListNode]:\n",
    "        if not start:\n",
    "            return start\n",
    "\n",
    "        count = 0\n",
    "        while start:\n",
    "            start = start.next\n",
    "            count += 1\n",
    "            if count == k:\n",
    "                break\n",
    "        \n",
    "        return start\n",
    "    \n",
    "    def reverse(self, start: Optional[ListNode], end: Optional[ListNode]):\n",
    "\n",
    "        prev = start\n",
    "        current = start.next\n",
    "        while prev != end:\n",
    "            currentNext = current.next\n",
    "            current.next = prev\n",
    "            prev = current\n",
    "            current = currentNext\n",
    "        start.next = current\n"
   ]
  },
  {
   "cell_type": "markdown",
   "metadata": {},
   "source": [
    "103. Binary Tree Zigzag Level Order Traversal\n",
    "https://leetcode.com/problems/binary-tree-zigzag-level-order-traversal/"
   ]
  },
  {
   "cell_type": "code",
   "execution_count": null,
   "metadata": {},
   "outputs": [],
   "source": [
    "# Definition for a binary tree node.\n",
    "class TreeNode:\n",
    "    def __init__(self, val=0, left=None, right=None):\n",
    "        self.val = val\n",
    "        self.left = left\n",
    "        self.right = right\n",
    "\n",
    "class Solution:\n",
    "    def zigzagLevelOrder(self, root: Optional[TreeNode]) -> List[List[int]]:\n",
    "        if not root:\n",
    "            return None\n",
    "        nodes = [(root, 0)]\n",
    "        dic = {}\n",
    "        levels = 0\n",
    "        while nodes:\n",
    "            (node, index) = nodes.pop(0)\n",
    "            if index in dic:\n",
    "                dic[index].append(node.val)\n",
    "            else:\n",
    "                dic[index] = [node.val]\n",
    "            if node.left:\n",
    "                if levels < index + 1:\n",
    "                    levels = index + 1\n",
    "                nodes.append((node.left, index + 1))\n",
    "            if node.right:\n",
    "                if levels < index + 1:\n",
    "                    levels = index + 1\n",
    "                nodes.append((node.right, index + 1))\n",
    "\n",
    "        result = []\n",
    "        for i in range(levels+1):\n",
    "            if i % 2 == 0:\n",
    "                result.append(dic[i])\n",
    "            else:\n",
    "                result.append(reversed(dic[i]))\n",
    "        return result\n",
    "\n",
    "            "
   ]
  },
  {
   "cell_type": "markdown",
   "metadata": {},
   "source": [
    "58. Length of Last Word\n",
    "https://leetcode.com/problems/length-of-last-word/"
   ]
  },
  {
   "cell_type": "code",
   "execution_count": null,
   "metadata": {},
   "outputs": [],
   "source": [
    "class Solution:\n",
    "    def lengthOfLastWord(self, s: str) -> int:\n",
    "        word = ''\n",
    "        last = ''\n",
    "        \n",
    "        for c in s:\n",
    "            if c == ' ':\n",
    "                if len(word) > 0:\n",
    "                    last = word\n",
    "                word = ''\n",
    "            else:\n",
    "                word += c\n",
    "                \n",
    "        if len(word) > 0:\n",
    "            last = word\n",
    "        return len(last)"
   ]
  },
  {
   "cell_type": "markdown",
   "metadata": {},
   "source": [
    "127. Word Ladder\n",
    "https://leetcode.com/problems/word-ladder/"
   ]
  },
  {
   "cell_type": "code",
   "execution_count": 17,
   "metadata": {},
   "outputs": [
    {
     "data": {
      "text/plain": [
       "9"
      ]
     },
     "execution_count": 17,
     "metadata": {},
     "output_type": "execute_result"
    }
   ],
   "source": [
    "from typing import List\n",
    "\n",
    "class Solution:\n",
    "    def ladderLength(self, beginWord: str, endWord: str, wordList: List[str]) -> int:\n",
    "        # setup connections between words\n",
    "        dic = {}\n",
    "        for word in wordList:\n",
    "            for i in range(len(word)):\n",
    "                key = word[:i] + '*' + word[i+1:]\n",
    "                if key in dic:\n",
    "                    dic[key].append([word, False, 0]) # word and visited flag as dictionary value\n",
    "                else:\n",
    "                    dic[key] = [[word, False, 0]]\n",
    "                \n",
    "        # search for end word\n",
    "        count = 0\n",
    "        current = beginWord\n",
    "        connected = self.findConnectedWords(current, dic, 1)\n",
    "        while connected:\n",
    "            first = connected.pop(0)\n",
    "            first[1] = True\n",
    "            l = first[2]\n",
    "            if first[0] == endWord:\n",
    "                return first[2]\n",
    "            else:\n",
    "                connected1 = self.findConnectedWords(first[0], dic, l + 1)\n",
    "                connected += connected1\n",
    "\n",
    "        return 0\n",
    "\n",
    "    def findConnectedWords(self, word, dic, level):\n",
    "        candidates = []\n",
    "        for i in range(len(word)):\n",
    "            key = word[:i] + '*' + word[i+1:]\n",
    "            if key in dic:\n",
    "                for candidate in dic[key]:\n",
    "                    if not candidate[1]:\n",
    "                        candidate[2] = level\n",
    "                        candidates.append(candidate)\n",
    "        return candidates\n",
    "\n",
    "s = Solution()\n",
    "s.ladderLength('hit', 'cog', [\"hot\",\"dot\",\"dog\",\"lot\",\"log\",\"cog\"])"
   ]
  },
  {
   "cell_type": "code",
   "execution_count": 4,
   "metadata": {},
   "outputs": [
    {
     "data": {
      "text/plain": [
       "'*ello'"
      ]
     },
     "execution_count": 4,
     "metadata": {},
     "output_type": "execute_result"
    }
   ],
   "source": [
    "word = 'hello'\n",
    "word[:0] + '*' + word[1:]"
   ]
  }
 ],
 "metadata": {
  "interpreter": {
   "hash": "aee8b7b246df8f9039afb4144a1f6fd8d2ca17a180786b69acc140d282b71a49"
  },
  "kernelspec": {
   "display_name": "Python 3.9.0 64-bit",
   "language": "python",
   "name": "python3"
  },
  "language_info": {
   "codemirror_mode": {
    "name": "ipython",
    "version": 3
   },
   "file_extension": ".py",
   "mimetype": "text/x-python",
   "name": "python",
   "nbconvert_exporter": "python",
   "pygments_lexer": "ipython3",
   "version": "3.9.0"
  },
  "orig_nbformat": 4
 },
 "nbformat": 4,
 "nbformat_minor": 2
}
